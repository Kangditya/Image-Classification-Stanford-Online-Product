{
  "nbformat": 4,
  "nbformat_minor": 0,
  "metadata": {
    "colab": {
      "name": "SubmissionIC_Aditya Nur'ahya.ipynb",
      "provenance": []
    },
    "kernelspec": {
      "display_name": "Python 3",
      "name": "python3"
    },
    "language_info": {
      "name": "python"
    },
    "accelerator": "GPU"
  },
  "cells": [
    {
      "cell_type": "markdown",
      "metadata": {
        "id": "XzSstDs5CE9Q"
      },
      "source": [
        "## Image Classification for Stanford Online Product\n",
        "\n",
        "### Created by : Aditya Nur'ahya (aditya.nurahya17@gmail.com)"
      ]
    },
    {
      "cell_type": "code",
      "metadata": {
        "id": "FFdjUvgkjK7c"
      },
      "source": [
        "import tensorflow as tf\n",
        "from tensorflow.keras.optimizers import RMSprop\n",
        "from tensorflow.keras.preprocessing.image import ImageDataGenerator"
      ],
      "execution_count": 7,
      "outputs": []
    },
    {
      "cell_type": "markdown",
      "metadata": {
        "id": "4Y8GQgOHB0Vu"
      },
      "source": [
        "#### Get Dataset from 'ftp://cs.stanford.edu/cs/cvgl/Stanford_Online_Products.zip'\n",
        "\n",
        "#### For more : http://cvgl.stanford.edu/projects/lifted_struct/"
      ]
    },
    {
      "cell_type": "code",
      "metadata": {
        "colab": {
          "base_uri": "https://localhost:8080/"
        },
        "id": "53_PEROSdQZK",
        "outputId": "7b505ed4-9190-45ec-ace4-4fee2351972a"
      },
      "source": [
        "!wget --no-check-certificate \\\n",
        "  ftp://cs.stanford.edu/cs/cvgl/Stanford_Online_Products.zip \\\n",
        "  -O /tmp/Stanford_Online_Products.zip\n"
      ],
      "execution_count": 8,
      "outputs": [
        {
          "output_type": "stream",
          "text": [
            "--2021-06-23 03:29:30--  ftp://cs.stanford.edu/cs/cvgl/Stanford_Online_Products.zip\n",
            "           => ‘/tmp/Stanford_Online_Products.zip’\n",
            "Resolving cs.stanford.edu (cs.stanford.edu)... 171.64.64.64\n",
            "Connecting to cs.stanford.edu (cs.stanford.edu)|171.64.64.64|:21... connected.\n",
            "Logging in as anonymous ... Logged in!\n",
            "==> SYST ... done.    ==> PWD ... done.\n",
            "==> TYPE I ... done.  ==> CWD (1) /cs/cvgl ... done.\n",
            "==> SIZE Stanford_Online_Products.zip ... 3083860082\n",
            "==> PASV ... done.    ==> RETR Stanford_Online_Products.zip ... done.\n",
            "Length: 3083860082 (2.9G) (unauthoritative)\n",
            "\n",
            "Stanford_Online_Pro 100%[===================>]   2.87G  30.8MB/s    in 69s     \n",
            "\n",
            "2021-06-23 03:30:39 (42.8 MB/s) - ‘/tmp/Stanford_Online_Products.zip’ saved [3083860082]\n",
            "\n"
          ],
          "name": "stdout"
        }
      ]
    },
    {
      "cell_type": "code",
      "metadata": {
        "id": "7dV_U_a1dfDc"
      },
      "source": [
        "import os\n",
        "import zipfile\n",
        "\n",
        "local_tar = '/tmp/Stanford_Online_Products.zip'\n",
        "tar_ref = zipfile.ZipFile(local_tar, 'r')\n",
        "tar_ref.extractall('/tmp/')\n",
        "tar_ref.close()"
      ],
      "execution_count": 9,
      "outputs": []
    },
    {
      "cell_type": "code",
      "metadata": {
        "colab": {
          "base_uri": "https://localhost:8080/"
        },
        "id": "njlKJqTFnROl",
        "outputId": "383f9b3c-6fc6-4592-aa0c-12676d6ace8a"
      },
      "source": [
        "os.listdir('/tmp')"
      ],
      "execution_count": 10,
      "outputs": [
        {
          "output_type": "execute_result",
          "data": {
            "text/plain": [
              "['Stanford_Online_Products',\n",
              " 'dap_multiplexer.07c9b8a82219.root.log.INFO.20210623-031322.51',\n",
              " 'Stanford_Online_Products.zip',\n",
              " 'initgoogle_syslog_dir.0',\n",
              " 'debugger_25ws1rk9mv',\n",
              " 'dap_multiplexer.INFO',\n",
              " 'imagenetv2-top-images-format-val',\n",
              " 'imagenetv2-top-images.tar.gz']"
            ]
          },
          "metadata": {
            "tags": []
          },
          "execution_count": 10
        }
      ]
    },
    {
      "cell_type": "code",
      "metadata": {
        "id": "r6oe1SH9kJva",
        "colab": {
          "base_uri": "https://localhost:8080/"
        },
        "outputId": "7acf2a04-7876-4981-f901-29656916ee6c"
      },
      "source": [
        "os.listdir('/tmp/Stanford_Online_Products')"
      ],
      "execution_count": 11,
      "outputs": [
        {
          "output_type": "execute_result",
          "data": {
            "text/plain": [
              "['kettle_final.txt',\n",
              " 'lamp_final.txt',\n",
              " 'README',\n",
              " 'table_final',\n",
              " 'mug_final.txt',\n",
              " 'sofa_final.txt',\n",
              " 'stapler_final.txt',\n",
              " 'Ebay_info.txt',\n",
              " 'coffee_maker_final.txt',\n",
              " 'stapler_final',\n",
              " 'coffee_maker_final',\n",
              " 'Ebay_final.txt',\n",
              " 'lamp_final',\n",
              " 'LICENSE',\n",
              " 'cabinet_final.txt',\n",
              " 'Ebay_test.txt',\n",
              " 'chair_final.txt',\n",
              " 'mug_final',\n",
              " 'fan_final',\n",
              " 'bicycle_final.txt',\n",
              " 'toaster_final.txt',\n",
              " 'cabinet_final',\n",
              " 'sofa_final',\n",
              " 'Ebay_train.txt',\n",
              " 'chair_final',\n",
              " 'fan_final.txt',\n",
              " 'kettle_final',\n",
              " 'bicycle_final',\n",
              " 'toaster_final',\n",
              " 'table_final.txt']"
            ]
          },
          "metadata": {
            "tags": []
          },
          "execution_count": 11
        }
      ]
    },
    {
      "cell_type": "code",
      "metadata": {
        "id": "pppDlshZkTs5"
      },
      "source": [
        "base_dir = os.path.join('/tmp/Stanford_Online_Products')"
      ],
      "execution_count": 12,
      "outputs": []
    },
    {
      "cell_type": "code",
      "metadata": {
        "colab": {
          "base_uri": "https://localhost:8080/"
        },
        "id": "_1vxDa_NkpGb",
        "outputId": "cca791eb-e81c-4a80-82de-a572bab47d81"
      },
      "source": [
        "os.listdir(base_dir)"
      ],
      "execution_count": 13,
      "outputs": [
        {
          "output_type": "execute_result",
          "data": {
            "text/plain": [
              "['kettle_final.txt',\n",
              " 'lamp_final.txt',\n",
              " 'README',\n",
              " 'table_final',\n",
              " 'mug_final.txt',\n",
              " 'sofa_final.txt',\n",
              " 'stapler_final.txt',\n",
              " 'Ebay_info.txt',\n",
              " 'coffee_maker_final.txt',\n",
              " 'stapler_final',\n",
              " 'coffee_maker_final',\n",
              " 'Ebay_final.txt',\n",
              " 'lamp_final',\n",
              " 'LICENSE',\n",
              " 'cabinet_final.txt',\n",
              " 'Ebay_test.txt',\n",
              " 'chair_final.txt',\n",
              " 'mug_final',\n",
              " 'fan_final',\n",
              " 'bicycle_final.txt',\n",
              " 'toaster_final.txt',\n",
              " 'cabinet_final',\n",
              " 'sofa_final',\n",
              " 'Ebay_train.txt',\n",
              " 'chair_final',\n",
              " 'fan_final.txt',\n",
              " 'kettle_final',\n",
              " 'bicycle_final',\n",
              " 'toaster_final',\n",
              " 'table_final.txt']"
            ]
          },
          "metadata": {
            "tags": []
          },
          "execution_count": 13
        }
      ]
    },
    {
      "cell_type": "code",
      "metadata": {
        "id": "GzCzY4hCks4J"
      },
      "source": [
        "train_datagen = ImageDataGenerator(rescale=1./255,\n",
        "    zoom_range=0.2,\n",
        "    shear_range=0.2,\n",
        "    rotation_range=20,\n",
        "    fill_mode='nearest',\n",
        "    horizontal_flip=True,\n",
        "    validation_split=0.2) # set validation 20%"
      ],
      "execution_count": 14,
      "outputs": []
    },
    {
      "cell_type": "markdown",
      "metadata": {
        "id": "jJAT0m2uBsRS"
      },
      "source": [
        "#### Generate image for classes ['bicycle_final', 'cabinet_final', 'coffee_maker_final']"
      ]
    },
    {
      "cell_type": "code",
      "metadata": {
        "colab": {
          "base_uri": "https://localhost:8080/"
        },
        "id": "n9UPd_Vkk_4s",
        "outputId": "39b47e0a-48fb-4858-b845-b75e676a27cb"
      },
      "source": [
        "train_generator = train_datagen.flow_from_directory(\n",
        "      base_dir,\n",
        "      target_size=(224, 224),\n",
        "      batch_size=64,\n",
        "      classes=['bicycle_final', 'cabinet_final', 'coffee_maker_final'],\n",
        "      class_mode='categorical',\n",
        "      subset='training') # set as training data\n",
        "validation_generator = train_datagen.flow_from_directory(\n",
        "      base_dir, # same directory as training data\n",
        "      target_size=(224, 224),\n",
        "      batch_size=64,\n",
        "      classes=['bicycle_final', 'cabinet_final', 'coffee_maker_final'],\n",
        "      class_mode='categorical',\n",
        "      subset='validation')"
      ],
      "execution_count": 16,
      "outputs": [
        {
          "output_type": "stream",
          "text": [
            "Found 24065 images belonging to 3 classes.\n",
            "Found 6014 images belonging to 3 classes.\n"
          ],
          "name": "stdout"
        }
      ]
    },
    {
      "cell_type": "markdown",
      "metadata": {
        "id": "Z4eWMu8dBkPB"
      },
      "source": [
        "#### Using Application VGG16 for Image Classification"
      ]
    },
    {
      "cell_type": "code",
      "metadata": {
        "colab": {
          "base_uri": "https://localhost:8080/"
        },
        "id": "AItvAgMUvHxd",
        "outputId": "0759a803-d483-4f40-f47b-3739fda370d0"
      },
      "source": [
        "from tensorflow.keras.applications.vgg16 import VGG16\n",
        "from tensorflow.keras.layers import Input\n",
        "model_train = VGG16(include_top=False, input_tensor=Input(shape=(224, 224, 3)))\n",
        "model_train.trainable = False\n",
        "model_train.summary()"
      ],
      "execution_count": 17,
      "outputs": [
        {
          "output_type": "stream",
          "text": [
            "Downloading data from https://storage.googleapis.com/tensorflow/keras-applications/vgg16/vgg16_weights_tf_dim_ordering_tf_kernels_notop.h5\n",
            "58892288/58889256 [==============================] - 0s 0us/step\n",
            "Model: \"vgg16\"\n",
            "_________________________________________________________________\n",
            "Layer (type)                 Output Shape              Param #   \n",
            "=================================================================\n",
            "input_1 (InputLayer)         [(None, 224, 224, 3)]     0         \n",
            "_________________________________________________________________\n",
            "block1_conv1 (Conv2D)        (None, 224, 224, 64)      1792      \n",
            "_________________________________________________________________\n",
            "block1_conv2 (Conv2D)        (None, 224, 224, 64)      36928     \n",
            "_________________________________________________________________\n",
            "block1_pool (MaxPooling2D)   (None, 112, 112, 64)      0         \n",
            "_________________________________________________________________\n",
            "block2_conv1 (Conv2D)        (None, 112, 112, 128)     73856     \n",
            "_________________________________________________________________\n",
            "block2_conv2 (Conv2D)        (None, 112, 112, 128)     147584    \n",
            "_________________________________________________________________\n",
            "block2_pool (MaxPooling2D)   (None, 56, 56, 128)       0         \n",
            "_________________________________________________________________\n",
            "block3_conv1 (Conv2D)        (None, 56, 56, 256)       295168    \n",
            "_________________________________________________________________\n",
            "block3_conv2 (Conv2D)        (None, 56, 56, 256)       590080    \n",
            "_________________________________________________________________\n",
            "block3_conv3 (Conv2D)        (None, 56, 56, 256)       590080    \n",
            "_________________________________________________________________\n",
            "block3_pool (MaxPooling2D)   (None, 28, 28, 256)       0         \n",
            "_________________________________________________________________\n",
            "block4_conv1 (Conv2D)        (None, 28, 28, 512)       1180160   \n",
            "_________________________________________________________________\n",
            "block4_conv2 (Conv2D)        (None, 28, 28, 512)       2359808   \n",
            "_________________________________________________________________\n",
            "block4_conv3 (Conv2D)        (None, 28, 28, 512)       2359808   \n",
            "_________________________________________________________________\n",
            "block4_pool (MaxPooling2D)   (None, 14, 14, 512)       0         \n",
            "_________________________________________________________________\n",
            "block5_conv1 (Conv2D)        (None, 14, 14, 512)       2359808   \n",
            "_________________________________________________________________\n",
            "block5_conv2 (Conv2D)        (None, 14, 14, 512)       2359808   \n",
            "_________________________________________________________________\n",
            "block5_conv3 (Conv2D)        (None, 14, 14, 512)       2359808   \n",
            "_________________________________________________________________\n",
            "block5_pool (MaxPooling2D)   (None, 7, 7, 512)         0         \n",
            "=================================================================\n",
            "Total params: 14,714,688\n",
            "Trainable params: 0\n",
            "Non-trainable params: 14,714,688\n",
            "_________________________________________________________________\n"
          ],
          "name": "stdout"
        }
      ]
    },
    {
      "cell_type": "code",
      "metadata": {
        "id": "dE82kI_rlCdi"
      },
      "source": [
        "model = tf.keras.models.Sequential([\n",
        "    model_train,  \n",
        "    tf.keras.layers.Flatten(),\n",
        "    tf.keras.layers.Dense(512, activation='relu'),\n",
        "    tf.keras.layers.Dropout(0.4),\n",
        "    tf.keras.layers.Dense(256, activation='relu'),\n",
        "    tf.keras.layers.Dense(3, activation='softmax')   \n",
        "])\n",
        "\n",
        "# #modeling CNN\n",
        "# model = tf.keras.models.Sequential([\n",
        "#     tf.keras.layers.InputLayer(input_shape=(224, 224, 3)),\n",
        "#     # 1st conv block\n",
        "#     tf.keras.layers.Conv2D(25, (5, 5), activation='relu', strides=(1, 1), padding='same'),\n",
        "#     tf.keras.layers.MaxPool2D(pool_size=(2, 2), padding='same'),\n",
        "#     # 2nd conv block\n",
        "#     tf.keras.layers.Conv2D(50, (5, 5), activation='relu', strides=(2, 2), padding='same'),\n",
        "#     tf.keras.layers.MaxPool2D(pool_size=(2, 2), padding='same'),\n",
        "#     tf.keras.layers.BatchNormalization(),\n",
        "#     # 3rd conv block\n",
        "#     tf.keras.layers.Conv2D(70, (3, 3), activation='relu', strides=(2, 2), padding='same'),\n",
        "#     tf.keras.layers.MaxPool2D(pool_size=(2, 2), padding='valid'),\n",
        "#     tf.keras.layers.BatchNormalization(),\n",
        "#     # ANN block\n",
        "#     tf.keras.layers.Flatten(),\n",
        "#     tf.keras.layers.Dense(units=100, activation='relu'),\n",
        "#     tf.keras.layers.Dense(units=100, activation='relu',name='feature_generator'),\n",
        "#     tf.keras.layers.Dropout(0.25),\n",
        "#     # output layer\n",
        "#     tf.keras.layers.Dense(units=2, activation='sigmoid')\n",
        "# ])"
      ],
      "execution_count": 18,
      "outputs": []
    },
    {
      "cell_type": "code",
      "metadata": {
        "colab": {
          "base_uri": "https://localhost:8080/"
        },
        "id": "Bq5B6DpbCFVe",
        "outputId": "afcf5a3d-65c7-48cc-95f3-8fec437d0900"
      },
      "source": [
        "model.summary()"
      ],
      "execution_count": 19,
      "outputs": [
        {
          "output_type": "stream",
          "text": [
            "Model: \"sequential\"\n",
            "_________________________________________________________________\n",
            "Layer (type)                 Output Shape              Param #   \n",
            "=================================================================\n",
            "vgg16 (Functional)           (None, 7, 7, 512)         14714688  \n",
            "_________________________________________________________________\n",
            "flatten (Flatten)            (None, 25088)             0         \n",
            "_________________________________________________________________\n",
            "dense (Dense)                (None, 512)               12845568  \n",
            "_________________________________________________________________\n",
            "dropout (Dropout)            (None, 512)               0         \n",
            "_________________________________________________________________\n",
            "dense_1 (Dense)              (None, 256)               131328    \n",
            "_________________________________________________________________\n",
            "dense_2 (Dense)              (None, 3)                 771       \n",
            "=================================================================\n",
            "Total params: 27,692,355\n",
            "Trainable params: 12,977,667\n",
            "Non-trainable params: 14,714,688\n",
            "_________________________________________________________________\n"
          ],
          "name": "stdout"
        }
      ]
    },
    {
      "cell_type": "code",
      "metadata": {
        "id": "-qod5gNtCG8v"
      },
      "source": [
        "model.compile(\n",
        "    loss = 'categorical_crossentropy',\n",
        "    optimizer = tf.optimizers.Adam(),\n",
        "    metrics = ['accuracy']\n",
        ")"
      ],
      "execution_count": 20,
      "outputs": []
    },
    {
      "cell_type": "code",
      "metadata": {
        "id": "vW-Rsui1CdhP"
      },
      "source": [
        "class myCallback(tf.keras.callbacks.Callback):\n",
        "   def on_epoch_end(self, epoch, logs={}):\n",
        "      if(logs.get('accuracy') >= 0.92 and logs.get('val_accuracy') >= 0.92):\n",
        "          print(\"\\nAkurasi telah mencapai > 92%!\")\n",
        "          self.model.stop_training = True\n",
        "callbacks = myCallback()\n",
        "\n",
        "reduce_lr = tf.keras.callbacks.ReduceLROnPlateau(monitor='val_loss', patience=15, min_lr=0.00001, verbose=2)"
      ],
      "execution_count": 22,
      "outputs": []
    },
    {
      "cell_type": "markdown",
      "metadata": {
        "id": "c40HxHMYBeaj"
      },
      "source": [
        "#### Pre-Trained Model"
      ]
    },
    {
      "cell_type": "code",
      "metadata": {
        "colab": {
          "base_uri": "https://localhost:8080/"
        },
        "id": "iJAeb3d7Cp_O",
        "outputId": "0293ae1f-ae5c-4368-e58c-17c2cb92db7d"
      },
      "source": [
        "history = model.fit(\n",
        "    train_generator,\n",
        "    epochs = 50,\n",
        "    steps_per_epoch = 25,\n",
        "    validation_data = validation_generator,\n",
        "    validation_steps = 5,\n",
        "    verbose = 1,\n",
        "    callbacks = [callbacks])"
      ],
      "execution_count": 23,
      "outputs": [
        {
          "output_type": "stream",
          "text": [
            "Epoch 1/50\n",
            "25/25 [==============================] - 64s 991ms/step - loss: 1.1549 - accuracy: 0.6988 - val_loss: 0.4140 - val_accuracy: 0.8531\n",
            "Epoch 2/50\n",
            "25/25 [==============================] - 24s 950ms/step - loss: 0.4402 - accuracy: 0.8525 - val_loss: 0.2474 - val_accuracy: 0.9125\n",
            "Epoch 3/50\n",
            "25/25 [==============================] - 24s 949ms/step - loss: 0.3917 - accuracy: 0.8612 - val_loss: 0.2424 - val_accuracy: 0.9031\n",
            "Epoch 4/50\n",
            "25/25 [==============================] - 24s 952ms/step - loss: 0.3418 - accuracy: 0.8744 - val_loss: 0.3067 - val_accuracy: 0.8844\n",
            "Epoch 5/50\n",
            "25/25 [==============================] - 23s 937ms/step - loss: 0.2878 - accuracy: 0.8913 - val_loss: 0.2231 - val_accuracy: 0.9219\n",
            "Epoch 6/50\n",
            "25/25 [==============================] - 23s 930ms/step - loss: 0.3075 - accuracy: 0.8869 - val_loss: 0.2365 - val_accuracy: 0.8938\n",
            "Epoch 7/50\n",
            "25/25 [==============================] - 24s 943ms/step - loss: 0.3054 - accuracy: 0.8806 - val_loss: 0.2099 - val_accuracy: 0.9219\n",
            "Epoch 8/50\n",
            "25/25 [==============================] - 23s 935ms/step - loss: 0.3024 - accuracy: 0.8894 - val_loss: 0.2431 - val_accuracy: 0.9219\n",
            "Epoch 9/50\n",
            "25/25 [==============================] - 24s 942ms/step - loss: 0.2896 - accuracy: 0.8844 - val_loss: 0.2287 - val_accuracy: 0.9125\n",
            "Epoch 10/50\n",
            "25/25 [==============================] - 23s 933ms/step - loss: 0.2816 - accuracy: 0.8994 - val_loss: 0.2570 - val_accuracy: 0.8844\n",
            "Epoch 11/50\n",
            "25/25 [==============================] - 23s 932ms/step - loss: 0.2572 - accuracy: 0.9056 - val_loss: 0.2225 - val_accuracy: 0.9125\n",
            "Epoch 12/50\n",
            "25/25 [==============================] - 23s 930ms/step - loss: 0.2838 - accuracy: 0.8975 - val_loss: 0.2543 - val_accuracy: 0.9125\n",
            "Epoch 13/50\n",
            "25/25 [==============================] - 23s 931ms/step - loss: 0.2671 - accuracy: 0.8900 - val_loss: 0.2473 - val_accuracy: 0.9156\n",
            "Epoch 14/50\n",
            "25/25 [==============================] - 23s 920ms/step - loss: 0.2283 - accuracy: 0.9187 - val_loss: 0.3012 - val_accuracy: 0.9250\n",
            "Epoch 15/50\n",
            "25/25 [==============================] - 23s 930ms/step - loss: 0.2684 - accuracy: 0.8925 - val_loss: 0.2967 - val_accuracy: 0.8813\n",
            "Epoch 16/50\n",
            "25/25 [==============================] - 23s 914ms/step - loss: 0.2532 - accuracy: 0.9056 - val_loss: 0.2285 - val_accuracy: 0.9281\n",
            "Epoch 17/50\n",
            "25/25 [==============================] - 23s 924ms/step - loss: 0.2710 - accuracy: 0.8963 - val_loss: 0.1470 - val_accuracy: 0.9344\n",
            "Epoch 18/50\n",
            "25/25 [==============================] - 23s 918ms/step - loss: 0.2690 - accuracy: 0.9044 - val_loss: 0.3043 - val_accuracy: 0.8844\n",
            "Epoch 19/50\n",
            "25/25 [==============================] - 23s 919ms/step - loss: 0.2571 - accuracy: 0.9050 - val_loss: 0.2393 - val_accuracy: 0.9156\n",
            "Epoch 20/50\n",
            "25/25 [==============================] - 23s 926ms/step - loss: 0.2557 - accuracy: 0.9175 - val_loss: 0.2168 - val_accuracy: 0.9125\n",
            "Epoch 21/50\n",
            "25/25 [==============================] - 23s 904ms/step - loss: 0.2206 - accuracy: 0.9200 - val_loss: 0.2025 - val_accuracy: 0.9125\n",
            "Epoch 22/50\n",
            "25/25 [==============================] - 23s 923ms/step - loss: 0.2898 - accuracy: 0.9044 - val_loss: 0.2214 - val_accuracy: 0.9187\n",
            "Epoch 23/50\n",
            "25/25 [==============================] - 23s 928ms/step - loss: 0.2489 - accuracy: 0.9137 - val_loss: 0.2372 - val_accuracy: 0.9187\n",
            "Epoch 24/50\n",
            "25/25 [==============================] - 23s 923ms/step - loss: 0.2507 - accuracy: 0.9094 - val_loss: 0.2008 - val_accuracy: 0.9187\n",
            "Epoch 25/50\n",
            "25/25 [==============================] - 23s 921ms/step - loss: 0.2340 - accuracy: 0.9187 - val_loss: 0.2201 - val_accuracy: 0.9125\n",
            "Epoch 26/50\n",
            "25/25 [==============================] - 23s 908ms/step - loss: 0.2287 - accuracy: 0.9115 - val_loss: 0.1516 - val_accuracy: 0.9344\n",
            "Epoch 27/50\n",
            "25/25 [==============================] - 23s 921ms/step - loss: 0.2329 - accuracy: 0.9100 - val_loss: 0.1588 - val_accuracy: 0.9344\n",
            "Epoch 28/50\n",
            "25/25 [==============================] - 23s 914ms/step - loss: 0.2652 - accuracy: 0.8975 - val_loss: 0.1737 - val_accuracy: 0.9469\n",
            "Epoch 29/50\n",
            "25/25 [==============================] - 23s 920ms/step - loss: 0.2447 - accuracy: 0.9100 - val_loss: 0.2885 - val_accuracy: 0.8906\n",
            "Epoch 30/50\n",
            "25/25 [==============================] - 23s 924ms/step - loss: 0.2680 - accuracy: 0.8975 - val_loss: 0.1837 - val_accuracy: 0.9219\n",
            "Epoch 31/50\n",
            "25/25 [==============================] - 24s 946ms/step - loss: 0.2428 - accuracy: 0.9137 - val_loss: 0.2401 - val_accuracy: 0.9062\n",
            "Epoch 32/50\n",
            "25/25 [==============================] - 23s 917ms/step - loss: 0.2458 - accuracy: 0.9169 - val_loss: 0.2057 - val_accuracy: 0.9156\n",
            "Epoch 33/50\n",
            "25/25 [==============================] - 23s 914ms/step - loss: 0.2268 - accuracy: 0.9181 - val_loss: 0.2547 - val_accuracy: 0.9062\n",
            "Epoch 34/50\n",
            "25/25 [==============================] - 23s 928ms/step - loss: 0.2668 - accuracy: 0.9106 - val_loss: 0.2423 - val_accuracy: 0.8969\n",
            "Epoch 35/50\n",
            "25/25 [==============================] - 23s 916ms/step - loss: 0.2559 - accuracy: 0.9144 - val_loss: 0.2547 - val_accuracy: 0.9031\n",
            "Epoch 36/50\n",
            "25/25 [==============================] - 22s 891ms/step - loss: 0.2750 - accuracy: 0.8998 - val_loss: 0.1672 - val_accuracy: 0.9500\n",
            "Epoch 37/50\n",
            "25/25 [==============================] - 23s 920ms/step - loss: 0.2466 - accuracy: 0.9125 - val_loss: 0.2217 - val_accuracy: 0.9250\n",
            "Epoch 38/50\n",
            "25/25 [==============================] - 23s 918ms/step - loss: 0.2184 - accuracy: 0.9194 - val_loss: 0.1377 - val_accuracy: 0.9500\n",
            "Epoch 39/50\n",
            "25/25 [==============================] - 23s 914ms/step - loss: 0.2374 - accuracy: 0.9137 - val_loss: 0.2098 - val_accuracy: 0.9344\n",
            "Epoch 40/50\n",
            "25/25 [==============================] - 23s 921ms/step - loss: 0.2430 - accuracy: 0.9156 - val_loss: 0.2772 - val_accuracy: 0.8969\n",
            "Epoch 41/50\n",
            "25/25 [==============================] - 23s 916ms/step - loss: 0.2134 - accuracy: 0.9281 - val_loss: 0.1767 - val_accuracy: 0.9438\n",
            "\n",
            "Akurasi telah mencapai > 92%!\n"
          ],
          "name": "stdout"
        }
      ]
    },
    {
      "cell_type": "markdown",
      "metadata": {
        "id": "4chcKkhpBQj8"
      },
      "source": [
        "#### Plotting Accuracy"
      ]
    },
    {
      "cell_type": "code",
      "metadata": {
        "id": "-PaYeOrxvO8s"
      },
      "source": [
        "import matplotlib.pyplot as plt\n",
        "acc = history.history['accuracy']\n",
        "val_acc = history.history['val_accuracy']\n",
        "loss = history.history['loss']\n",
        "val_loss = history.history['val_loss']\n",
        "\n",
        "epochs = range(len(acc))\n"
      ],
      "execution_count": 24,
      "outputs": []
    },
    {
      "cell_type": "code",
      "metadata": {
        "colab": {
          "base_uri": "https://localhost:8080/",
          "height": 298
        },
        "id": "SmvO-UPO8R3X",
        "outputId": "f6df1503-dc66-4e83-d3f6-a174020d37cf"
      },
      "source": [
        "plt.plot(epochs, acc, 'r', label='Training accuracy')\n",
        "plt.plot(epochs, val_acc, 'b', label='Validation accuracy')\n",
        "plt.title('Training and validation accuracy')\n",
        "plt.legend(loc=0)\n",
        "plt.figure()\n",
        "\n",
        "\n",
        "plt.show()"
      ],
      "execution_count": 25,
      "outputs": [
        {
          "output_type": "display_data",
          "data": {
            "image/png": "[encoded data removed]",
            "text/plain": [
              "<Figure size 432x288 with 1 Axes>"
            ]
          },
          "metadata": {
            "tags": [],
            "needs_background": "light"
          }
        },
        {
          "output_type": "display_data",
          "data": {
            "text/plain": [
              "<Figure size 432x288 with 0 Axes>"
            ]
          },
          "metadata": {
            "tags": []
          }
        }
      ]
    },
    {
      "cell_type": "code",
      "metadata": {
        "colab": {
          "base_uri": "https://localhost:8080/",
          "height": 298
        },
        "id": "Au_xvHqH8UCk",
        "outputId": "c147177c-b958-438d-89ad-0476604b5a97"
      },
      "source": [
        "plt.plot(epochs, loss, 'r', label='Training Loss')\n",
        "plt.plot(epochs, val_loss, 'b', label='Validation Loss')\n",
        "plt.title('Training and validation loss')\n",
        "plt.legend(loc=0)\n",
        "plt.figure()\n",
        "\n",
        "\n",
        "plt.show()"
      ],
      "execution_count": 26,
      "outputs": [
        {
          "output_type": "display_data",
          "data": {
            "image/png": "[encoded data removed]",
            "text/plain": [
              "<Figure size 432x288 with 1 Axes>"
            ]
          },
          "metadata": {
            "tags": [],
            "needs_background": "light"
          }
        },
        {
          "output_type": "display_data",
          "data": {
            "text/plain": [
              "<Figure size 432x288 with 0 Axes>"
            ]
          },
          "metadata": {
            "tags": []
          }
        }
      ]
    },
    {
      "cell_type": "markdown",
      "metadata": {
        "id": "r_vK6BZFBNGI"
      },
      "source": [
        "#### Deployment TFLite"
      ]
    },
    {
      "cell_type": "code",
      "metadata": {
        "colab": {
          "base_uri": "https://localhost:8080/"
        },
        "id": "XGoKRENN8X6X",
        "outputId": "49d50e3b-4dff-4d94-ffcb-fe212832521d"
      },
      "source": [
        "converter = tf.lite.TFLiteConverter.from_keras_model(model)\n",
        "tflite_model = converter.convert()"
      ],
      "execution_count": 27,
      "outputs": [
        {
          "output_type": "stream",
          "text": [
            "INFO:tensorflow:Assets written to: /tmp/tmpm1bp22q0/assets\n"
          ],
          "name": "stdout"
        }
      ]
    },
    {
      "cell_type": "code",
      "metadata": {
        "id": "8usYUQIO8Ypb"
      },
      "source": [
        "with tf.io.gfile.GFile('image-model.tflite', 'wb') as f:\n",
        "  f.write(tflite_model)"
      ],
      "execution_count": 28,
      "outputs": []
    }
  ]
}